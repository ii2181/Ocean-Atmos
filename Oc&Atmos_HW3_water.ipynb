{
 "cells": [
  {
   "cell_type": "code",
   "execution_count": 9,
   "metadata": {},
   "outputs": [
    {
     "name": "stdout",
     "output_type": "stream",
     "text": [
      "[Errno 2] No such file or directory: 'Documents/'\n",
      "/Users/ingridizaguirre/Documents\n"
     ]
    }
   ],
   "source": [
    "cd Documents/"
   ]
  },
  {
   "cell_type": "code",
   "execution_count": 11,
   "metadata": {},
   "outputs": [
    {
     "name": "stdout",
     "output_type": "stream",
     "text": [
      "/Users/ingridizaguirre/Documents/Lamont\n"
     ]
    }
   ],
   "source": [
    "cd Lamont/"
   ]
  },
  {
   "cell_type": "code",
   "execution_count": 13,
   "metadata": {},
   "outputs": [
    {
     "name": "stdout",
     "output_type": "stream",
     "text": [
      "/Users/ingridizaguirre/Documents/Lamont/Courses\n"
     ]
    }
   ],
   "source": [
    "cd Courses/"
   ]
  },
  {
   "cell_type": "code",
   "execution_count": 15,
   "metadata": {},
   "outputs": [
    {
     "name": "stdout",
     "output_type": "stream",
     "text": [
      "/Users/ingridizaguirre/Documents/Lamont/Courses/Spring2020\n"
     ]
    }
   ],
   "source": [
    "cd Spring2020/"
   ]
  },
  {
   "cell_type": "code",
   "execution_count": 17,
   "metadata": {},
   "outputs": [
    {
     "name": "stdout",
     "output_type": "stream",
     "text": [
      "/Users/ingridizaguirre/Documents/Lamont/Courses/Spring2020/Oc&Atmos\n"
     ]
    }
   ],
   "source": [
    "cd Oc&Atmos/"
   ]
  },
  {
   "cell_type": "code",
   "execution_count": 18,
   "metadata": {},
   "outputs": [
    {
     "name": "stdout",
     "output_type": "stream",
     "text": [
      "4930_20_DustAero.pptx      Izaguirre_ER.xlsx\r\n",
      "4930_20_Greenhouse.pptx    Izaguirre_HW2_Water.xlsx\r\n",
      "4930_20_Intro-2.pptx       Izaguirre_Water.csv\r\n",
      "4930_20_Intro.pptx         Izaguirre_Water.xlsx\r\n",
      "4930_20_radiation.pptx     Oc_Atm_lecture1.pptx\r\n",
      "4930_20_water_clouds.pptx  ~$4930_20_Greenhouse.pptx\r\n",
      "Izaguirre_ER.docx\r\n"
     ]
    }
   ],
   "source": [
    "ls"
   ]
  },
  {
   "cell_type": "code",
   "execution_count": 48,
   "metadata": {},
   "outputs": [],
   "source": [
    "import xarray as xr\n",
    "import pandas as pd\n",
    "from matplotlib import path\n",
    "import numpy as np\n",
    "import matplotlib.pyplot as plt"
   ]
  },
  {
   "cell_type": "code",
   "execution_count": 49,
   "metadata": {},
   "outputs": [
    {
     "data": {
      "text/html": [
       "<div>\n",
       "<style scoped>\n",
       "    .dataframe tbody tr th:only-of-type {\n",
       "        vertical-align: middle;\n",
       "    }\n",
       "\n",
       "    .dataframe tbody tr th {\n",
       "        vertical-align: top;\n",
       "    }\n",
       "\n",
       "    .dataframe thead th {\n",
       "        text-align: right;\n",
       "    }\n",
       "</style>\n",
       "<table border=\"1\" class=\"dataframe\">\n",
       "  <thead>\n",
       "    <tr style=\"text-align: right;\">\n",
       "      <th></th>\n",
       "      <th>Pre_Ind_Yr</th>\n",
       "      <th>T_Anomaly</th>\n",
       "      <th>Temp</th>\n",
       "      <th>CO2</th>\n",
       "      <th>excess</th>\n",
       "      <th>G_IG_Yr</th>\n",
       "      <th>T_Var</th>\n",
       "      <th>G_IG_T</th>\n",
       "      <th>G_IG_CO2</th>\n",
       "      <th>G_IG_excess</th>\n",
       "    </tr>\n",
       "  </thead>\n",
       "  <tbody>\n",
       "    <tr>\n",
       "      <th>0</th>\n",
       "      <td>1880.0</td>\n",
       "      <td>-0.10</td>\n",
       "      <td>14.90</td>\n",
       "      <td>270.0</td>\n",
       "      <td>0.0</td>\n",
       "      <td>400000</td>\n",
       "      <td>-1.8</td>\n",
       "      <td>13.2</td>\n",
       "      <td>270</td>\n",
       "      <td>0</td>\n",
       "    </tr>\n",
       "    <tr>\n",
       "      <th>1</th>\n",
       "      <td>1900.0</td>\n",
       "      <td>-0.08</td>\n",
       "      <td>14.92</td>\n",
       "      <td>290.0</td>\n",
       "      <td>20.0</td>\n",
       "      <td>350000</td>\n",
       "      <td>-6.9</td>\n",
       "      <td>8.1</td>\n",
       "      <td>200</td>\n",
       "      <td>70</td>\n",
       "    </tr>\n",
       "    <tr>\n",
       "      <th>2</th>\n",
       "      <td>1920.0</td>\n",
       "      <td>-0.19</td>\n",
       "      <td>14.81</td>\n",
       "      <td>305.0</td>\n",
       "      <td>35.0</td>\n",
       "      <td>300000</td>\n",
       "      <td>-3.0</td>\n",
       "      <td>12.0</td>\n",
       "      <td>239</td>\n",
       "      <td>31</td>\n",
       "    </tr>\n",
       "    <tr>\n",
       "      <th>3</th>\n",
       "      <td>1940.0</td>\n",
       "      <td>-0.05</td>\n",
       "      <td>14.95</td>\n",
       "      <td>310.0</td>\n",
       "      <td>40.0</td>\n",
       "      <td>250000</td>\n",
       "      <td>-6.0</td>\n",
       "      <td>9.0</td>\n",
       "      <td>205</td>\n",
       "      <td>65</td>\n",
       "    </tr>\n",
       "    <tr>\n",
       "      <th>4</th>\n",
       "      <td>1960.0</td>\n",
       "      <td>0.00</td>\n",
       "      <td>15.00</td>\n",
       "      <td>320.0</td>\n",
       "      <td>50.0</td>\n",
       "      <td>200000</td>\n",
       "      <td>-3.8</td>\n",
       "      <td>11.2</td>\n",
       "      <td>243</td>\n",
       "      <td>27</td>\n",
       "    </tr>\n",
       "  </tbody>\n",
       "</table>\n",
       "</div>"
      ],
      "text/plain": [
       "   Pre_Ind_Yr  T_Anomaly   Temp    CO2  excess  G_IG_Yr  T_Var  G_IG_T  \\\n",
       "0      1880.0      -0.10  14.90  270.0     0.0   400000   -1.8    13.2   \n",
       "1      1900.0      -0.08  14.92  290.0    20.0   350000   -6.9     8.1   \n",
       "2      1920.0      -0.19  14.81  305.0    35.0   300000   -3.0    12.0   \n",
       "3      1940.0      -0.05  14.95  310.0    40.0   250000   -6.0     9.0   \n",
       "4      1960.0       0.00  15.00  320.0    50.0   200000   -3.8    11.2   \n",
       "\n",
       "   G_IG_CO2  G_IG_excess  \n",
       "0       270            0  \n",
       "1       200           70  \n",
       "2       239           31  \n",
       "3       205           65  \n",
       "4       243           27  "
      ]
     },
     "execution_count": 49,
     "metadata": {},
     "output_type": "execute_result"
    }
   ],
   "source": [
    "df = pd.read_csv('Izaguirre_Water.csv')\n",
    "df.head()"
   ]
  },
  {
   "cell_type": "markdown",
   "metadata": {},
   "source": [
    "Temperature anomalies were converted to temperature values by adding 15C (mean gloabl temperature)."
   ]
  },
  {
   "cell_type": "markdown",
   "metadata": {},
   "source": [
    "## 1) Plot CO2 excess from pre-industrial (1880, CO2=270 ppm)-modern against global annual air temperature "
   ]
  },
  {
   "cell_type": "code",
   "execution_count": 55,
   "metadata": {},
   "outputs": [
    {
     "data": {
      "text/plain": [
       "Text(0, 0.5, 'Excess CO2 (ppm)')"
      ]
     },
     "execution_count": 55,
     "metadata": {},
     "output_type": "execute_result"
    },
    {
     "data": {
      "image/png": "[encoded data removed]",
      "text/plain": [
       "<Figure size 432x288 with 1 Axes>"
      ]
     },
     "metadata": {
      "needs_background": "light"
     },
     "output_type": "display_data"
    }
   ],
   "source": [
    "plt.plot(df.excess, df.Temp, 'g^')\n",
    "plt.title('CO2 Excess since Pre-Industrial against Annual Global Air Temperature')\n",
    "plt.xlabel('Temperature (degrees C)')\n",
    "plt.ylabel('Excess CO2 (ppm)')"
   ]
  },
  {
   "cell_type": "markdown",
   "metadata": {},
   "source": [
    "## 2) Find the sensitivity of warming to CO2 --> dT/dCO2 rate of change of temperature vs CO2 (for glacial-interglacial cycles)\n",
    "\n",
    "Over glacial-interglacial cycles the change in temperature = 10 degrees C and the change in CO2 = 100 ppm (or Watts/m^2)"
   ]
  },
  {
   "cell_type": "code",
   "execution_count": 51,
   "metadata": {},
   "outputs": [
    {
     "data": {
      "text/plain": [
       "0.1"
      ]
     },
     "execution_count": 51,
     "metadata": {},
     "output_type": "execute_result"
    }
   ],
   "source": [
    "dT = 10 \n",
    "dCO2 = 100\n",
    "\n",
    "sensitivity = dT/dCO2\n",
    "sensitivity"
   ]
  },
  {
   "cell_type": "markdown",
   "metadata": {},
   "source": [
    "## 2a) sensitivity of warming to CO2 (pre-industrial to modern)\n",
    "\n",
    "Temp:\n",
    "dt_anomaly = 0.9\n",
    "\n",
    "0.9 + 15 = 15.9\n",
    "dt = 15.9 degrees C\n",
    "\n",
    "CO2:\n",
    "400 - 302 = 98\n",
    "dco2 = 98 ppm "
   ]
  },
  {
   "cell_type": "code",
   "execution_count": 52,
   "metadata": {},
   "outputs": [
    {
     "data": {
      "text/plain": [
       "0.16224489795918368"
      ]
     },
     "execution_count": 52,
     "metadata": {},
     "output_type": "execute_result"
    }
   ],
   "source": [
    "dt = 15.9\n",
    "dco2 = 98\n",
    "\n",
    "sensit = dt/dco2\n",
    "sensit"
   ]
  },
  {
   "cell_type": "markdown",
   "metadata": {},
   "source": [
    "## 3) Why are the sensitivies between the glacial periods and last ~100 years different?\n",
    "\n",
    "The climate sensitivity is larger in the pre-industrial to modern than across glacial to interglacial cycles since the rate (concentration per time) at which CO2 is being pumped into the atmosphere is much greater. \n",
    "Even if the concentration of CO2 that has been input to the system is equal, having it occur on a shorter timescale means that Earth's climate system will \"feel\" its effects more intensely (ie it will be more sensitive to the CO2 input). "
   ]
  },
  {
   "cell_type": "code",
   "execution_count": 60,
   "metadata": {},
   "outputs": [
    {
     "data": {
      "text/plain": [
       "Text(0, 0.5, 'Excess CO2 (ppm)')"
      ]
     },
     "execution_count": 60,
     "metadata": {},
     "output_type": "execute_result"
    },
    {
     "data": {
      "image/png": "[encoded data removed]",
      "text/plain": [
       "<Figure size 432x288 with 1 Axes>"
      ]
     },
     "metadata": {
      "needs_background": "light"
     },
     "output_type": "display_data"
    }
   ],
   "source": [
    "plt.plot( df.excess, df.Temp, 'g^', df.G_IG_excess, df.G_IG_T, 'bs')\n",
    "plt.title('CO2 Excess since Pre-Industrial against Annual Global Air Temperature')\n",
    "plt.xlabel('Temperature (degrees C)')\n",
    "plt.ylabel('Excess CO2 (ppm)') "
   ]
  },
  {
   "cell_type": "code",
   "execution_count": null,
   "metadata": {},
   "outputs": [],
   "source": [
    "\n"
   ]
  }
 ],
 "metadata": {
  "kernelspec": {
   "display_name": "Python 3",
   "language": "python",
   "name": "python3"
  },
  "language_info": {
   "codemirror_mode": {
    "name": "ipython",
    "version": 3
   },
   "file_extension": ".py",
   "mimetype": "text/x-python",
   "name": "python",
   "nbconvert_exporter": "python",
   "pygments_lexer": "ipython3",
   "version": "3.7.3"
  }
 },
 "nbformat": 4,
 "nbformat_minor": 2
}
